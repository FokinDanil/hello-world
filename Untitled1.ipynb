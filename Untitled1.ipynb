{
 "cells": [
  {
   "cell_type": "code",
   "execution_count": 5,
   "metadata": {
    "collapsed": false
   },
   "outputs": [],
   "source": [
    "import requests\n",
    "url = 'http://www.kinopoisk.ru/top/' # url для второй страницы\n",
    "r = requests.get(url)\n"
   ]
  },
  {
   "cell_type": "code",
   "execution_count": 6,
   "metadata": {
    "collapsed": true
   },
   "outputs": [],
   "source": [
    "%matplotlib inline\n",
    "import requests\n",
    "from bs4 import BeautifulSoup\n",
    "import os\n",
    "import pandas as pd\n",
    "import time\n",
    "import re\n",
    "import seaborn\n",
    "from lxml import html\n",
    "import matplotlib\n",
    "\n",
    "%config InlineBackend.figure_format = 'svg'\n",
    "from pylab import rcParams\n",
    "rcParams['figure.figsize'] = 8, 5"
   ]
  },
  {
   "cell_type": "code",
   "execution_count": 3,
   "metadata": {
    "collapsed": true
   },
   "outputs": [],
   "source": []
  },
  {
   "cell_type": "code",
   "execution_count": 8,
   "metadata": {
    "collapsed": true
   },
   "outputs": [],
   "source": [
    "def read_file(filename):\n",
    "    with open(filename) as input_file:\n",
    "        text = input_file.read()\n",
    "    return text\n",
    "\n",
    "def parse_user_datafile_bs(filename):\n",
    "    results = []\n",
    "    text = read_file(filename)\n",
    "        \n",
    "    soup = BeautifulSoup(text)\n",
    "    film_list = soup.find('td', {'class': 'all'})\n",
    "    items = film_list.find_all('div', {'class': ['item', 'item even']})\n",
    "    for item in items:\n",
    "        # getting movie_id\n",
    "        movie_link = item.find('a', {'class': 'all'}).find('a').get('href')\n",
    "        movie_desc = item.find('a', {'class': 'all'}).find('a').text\n",
    "        movie_id = re.findall('\\d+', movie_link)[0]\n",
    "        \n",
    "        # getting english name\n",
    "        name_eng = item.find('span', {'class': 'text-grey'}).text\n",
    "        \n",
    "        results.append({\n",
    "                'movie_id': movie_id,\n",
    "                'name_eng': name_eng,\n",
    "                'movie_desc': movie_desc\n",
    "            })\n",
    "    return results"
   ]
  },
  {
   "cell_type": "raw",
   "metadata": {},
   "source": [
    "film_list\n"
   ]
  },
  {
   "cell_type": "raw",
   "metadata": {},
   "source": [
    "print(results)"
   ]
  },
  {
   "cell_type": "code",
   "execution_count": 9,
   "metadata": {
    "collapsed": false
   },
   "outputs": [
    {
     "ename": "NameError",
     "evalue": "name 'user_data_df' is not defined",
     "output_type": "error",
     "traceback": [
      "\u001b[0;31m---------------------------------------------------------------------------\u001b[0m",
      "\u001b[0;31mNameError\u001b[0m                                 Traceback (most recent call last)",
      "\u001b[0;32m<ipython-input-9-c79503924cfb>\u001b[0m in \u001b[0;36m<module>\u001b[0;34m()\u001b[0m\n\u001b[0;32m----> 1\u001b[0;31m \u001b[0muser_data_df\u001b[0m\u001b[1;33m\u001b[0m\u001b[0m\n\u001b[0m",
      "\u001b[0;31mNameError\u001b[0m: name 'user_data_df' is not defined"
     ]
    }
   ],
   "source": [
    "user_data_df"
   ]
  },
  {
   "cell_type": "code",
   "execution_count": 10,
   "metadata": {
    "collapsed": false
   },
   "outputs": [
    {
     "ename": "NameError",
     "evalue": "name 'film_list' is not defined",
     "output_type": "error",
     "traceback": [
      "\u001b[0;31m---------------------------------------------------------------------------\u001b[0m",
      "\u001b[0;31mNameError\u001b[0m                                 Traceback (most recent call last)",
      "\u001b[0;32m<ipython-input-10-614bc68cd0cf>\u001b[0m in \u001b[0;36m<module>\u001b[0;34m()\u001b[0m\n\u001b[0;32m----> 1\u001b[0;31m \u001b[0mfilm_list\u001b[0m\u001b[1;33m\u001b[0m\u001b[0m\n\u001b[0m",
      "\u001b[0;31mNameError\u001b[0m: name 'film_list' is not defined"
     ]
    }
   ],
   "source": [
    "film_list"
   ]
  },
  {
   "cell_type": "code",
   "execution_count": 12,
   "metadata": {
    "collapsed": false
   },
   "outputs": [],
   "source": [
    "def parse_user_datafile_lxml(filename):\n",
    "    results = []\n",
    "    text = read_file(filename)\n",
    "    \n",
    "    tree = html.fromstring(text)\n",
    "    \n",
    "    film_list_lxml = tree.xpath('//div[@class = \"profileFilmsList\"]')[0]\n",
    "    items_lxml = film_list_lxml.xpath('//div[@class = \"item even\" or @class = \"item\"]')  \n",
    "    for item_lxml in items_lxml:\n",
    "        # getting movie id\n",
    "        movie_link = item_lxml.xpath('.//a[@class = \"all\"]/a/@href')[0]\n",
    "        movie_desc = item_lxml.xpath('.//a[@class = \"all\"]/a/text()')[0]\n",
    "        movie_id = re.findall('\\d+', movie_link)[0]\n",
    "\n",
    "        # getting english name\n",
    "        name_eng = item_lxml.xpath('.//a[@class = \"text-grey\"]/text()')[0]\n",
    "        \n",
    "        results.append({\n",
    "                'all': movie_id,\n",
    "                'text-grey': name_eng\n",
    "            })\n",
    "    return results"
   ]
  },
  {
   "cell_type": "code",
   "execution_count": 21,
   "metadata": {
    "collapsed": false
   },
   "outputs": [
    {
     "ename": "SyntaxError",
     "evalue": "(unicode error) 'unicodeescape' codec can't decode bytes in position 2-3: truncated \\UXXXXXXXX escape (<ipython-input-21-a50af992f519>, line 3)",
     "output_type": "error",
     "traceback": [
      "\u001b[0;36m  File \u001b[0;32m\"<ipython-input-21-a50af992f519>\"\u001b[0;36m, line \u001b[0;32m3\u001b[0m\n\u001b[0;31m    for filename in os.listdir('C:\\Users\\пользователь\\Desktop\\user_data'):\u001b[0m\n\u001b[0m                              ^\u001b[0m\n\u001b[0;31mSyntaxError\u001b[0m\u001b[0;31m:\u001b[0m (unicode error) 'unicodeescape' codec can't decode bytes in position 2-3: truncated \\UXXXXXXXX escape\n"
     ]
    }
   ],
   "source": [
    "# parsing user data\n",
    "results = []\n",
    "for filename in os.listdir('C:\\Users\\пользователь\\Desktop\\user_data'):\n",
    "    results.extend(parse_user_datafile_bs('C:\\\\Users\\\\пользователь\\\\Desktop\\\\user_data' + filename))"
   ]
  },
  {
   "cell_type": "code",
   "execution_count": 23,
   "metadata": {
    "collapsed": false
   },
   "outputs": [
    {
     "ename": "SyntaxError",
     "evalue": "(unicode error) 'unicodeescape' codec can't decode bytes in position 2-3: truncated \\UXXXXXXXX escape (<ipython-input-23-438762b56902>, line 3)",
     "output_type": "error",
     "traceback": [
      "\u001b[0;36m  File \u001b[0;32m\"<ipython-input-23-438762b56902>\"\u001b[0;36m, line \u001b[0;32m3\u001b[0m\n\u001b[0;31m    for filename in os.listdir('C:\\Users\\пользователь\\Desktop\\user_data'):\u001b[0m\n\u001b[0m                              ^\u001b[0m\n\u001b[0;31mSyntaxError\u001b[0m\u001b[0;31m:\u001b[0m (unicode error) 'unicodeescape' codec can't decode bytes in position 2-3: truncated \\UXXXXXXXX escape\n"
     ]
    }
   ],
   "source": [
    "# parsing user data\n",
    "results = []\n",
    "for filename in os.listdir('C:\\Users\\пользователь\\Desktop\\user_data'):\n",
    "    results.extend(parse_user_datafile_bs('C:\\\\\\Users\\\\\\пользователь\\\\\\Desktop\\\\\\user_data' + filename))"
   ]
  },
  {
   "cell_type": "code",
   "execution_count": null,
   "metadata": {
    "collapsed": true
   },
   "outputs": [],
   "source": []
  }
 ],
 "metadata": {
  "kernelspec": {
   "display_name": "Python 3",
   "language": "python",
   "name": "python3"
  }
 },
 "nbformat": 4,
 "nbformat_minor": 2
}
